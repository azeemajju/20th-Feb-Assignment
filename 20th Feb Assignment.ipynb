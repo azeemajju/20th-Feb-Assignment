{
 "cells": [
  {
   "cell_type": "markdown",
   "id": "8d195b5f",
   "metadata": {},
   "source": [
    "Q1. Explain GET and POST methods.\n",
    "\n",
    "\n",
    "Ans :GET method is used to retrieve data from a server, and the parameters are passed in the URL query string. POST method is used to submit data to a server, and the parameters are passed in the request body. GET requests are idempotent, while POST requests are not idempotent."
   ]
  },
  {
   "cell_type": "markdown",
   "id": "26c82403",
   "metadata": {},
   "source": [
    "Q2. Why is request used in Flask?\n",
    "\n",
    "Ans:In Flask, the request object is used to access incoming request data that is sent from a client to a server. The request object contains information about the HTTP request being made, such as the request method, headers, URL parameters, and form data.\n",
    "\n",
    "By using the request object in Flask, developers can easily extract and manipulate data from incoming requests and use it to generate a response. For example, a Flask application that accepts form data from a user can use the request object to extract the form data and then process it to generate a response.\n",
    "\n",
    "Overall, the request object is an essential component of Flask applications as it allows developers to interact with incoming requests and build dynamic web applications that can respond to user input."
   ]
  },
  {
   "cell_type": "markdown",
   "id": "c6f77e72",
   "metadata": {},
   "source": [
    "Q3. Why is redirect() used in Flask?\n",
    "\n",
    "Ans:In Flask, the redirect() function is used to redirect a client to a different URL. This function is typically used to implement HTTP redirects, which are a way for a server to instruct a client to request a different URL instead of the original URL.\n",
    "\n",
    "The redirect() function takes a URL argument and returns a response object with a 302 status code and a Location header set to the specified URL. When a client receives this response, it will automatically make a new request to the specified URL."
   ]
  },
  {
   "cell_type": "markdown",
   "id": "98a8cc27",
   "metadata": {},
   "source": [
    "Q4. What are templates in Flask? Why is the render_template() function used?\n",
    "\n",
    "Ans:In Flask, templates are used to separate the presentation logic from the application logic. A template is a file that contains a mix of HTML, CSS, and Jinja2 syntax, which allows developers to dynamically generate HTML pages with data from their Flask application.\n",
    "\n",
    "The render_template() function is used to render templates in Flask. This function takes the name of a template file as its argument and returns a response object with the rendered HTML. The render_template() function also allows developers to pass data to the template, which can be used to generate dynamic content."
   ]
  },
  {
   "cell_type": "markdown",
   "id": "5850106a",
   "metadata": {},
   "source": [
    "Q5. Create a simple API. Use Postman to test it. Attach the screenshot of the output in the Jupyter Notebook."
   ]
  },
  {
   "cell_type": "code",
   "execution_count": 1,
   "id": "04529da9",
   "metadata": {},
   "outputs": [
    {
     "name": "stdout",
     "output_type": "stream",
     "text": [
      " * Serving Flask app \"__main__\" (lazy loading)\n",
      " * Environment: production\n",
      "\u001b[31m   WARNING: This is a development server. Do not use it in a production deployment.\u001b[0m\n",
      "\u001b[2m   Use a production WSGI server instead.\u001b[0m\n",
      " * Debug mode: on\n"
     ]
    },
    {
     "name": "stderr",
     "output_type": "stream",
     "text": [
      " * Restarting with watchdog (windowsapi)\n"
     ]
    },
    {
     "ename": "SystemExit",
     "evalue": "1",
     "output_type": "error",
     "traceback": [
      "An exception has occurred, use %tb to see the full traceback.\n",
      "\u001b[1;31mSystemExit\u001b[0m\u001b[1;31m:\u001b[0m 1\n"
     ]
    },
    {
     "name": "stderr",
     "output_type": "stream",
     "text": [
      "C:\\ProgramData\\Anaconda3\\lib\\site-packages\\IPython\\core\\interactiveshell.py:3465: UserWarning: To exit: use 'exit', 'quit', or Ctrl-D.\n",
      "  warn(\"To exit: use 'exit', 'quit', or Ctrl-D.\", stacklevel=1)\n"
     ]
    }
   ],
   "source": [
    "from flask import Flask, jsonify\n",
    "\n",
    "app = Flask(__name__)\n",
    "\n",
    "@app.route('/hello', methods=['POST'])\n",
    "def hello():\n",
    "    return jsonify({'message': 'Hello, World!'})\n",
    "\n",
    "if __name__ == '__main__':\n",
    "    app.run(debug=True)\n"
   ]
  },
  {
   "cell_type": "code",
   "execution_count": null,
   "id": "64d1c454",
   "metadata": {},
   "outputs": [],
   "source": []
  },
  {
   "cell_type": "code",
   "execution_count": null,
   "id": "0d86820b",
   "metadata": {},
   "outputs": [],
   "source": []
  },
  {
   "cell_type": "code",
   "execution_count": null,
   "id": "f4413d3c",
   "metadata": {},
   "outputs": [],
   "source": []
  },
  {
   "cell_type": "code",
   "execution_count": null,
   "id": "2b974b4a",
   "metadata": {},
   "outputs": [],
   "source": []
  },
  {
   "cell_type": "code",
   "execution_count": null,
   "id": "06e0d59c",
   "metadata": {},
   "outputs": [],
   "source": []
  },
  {
   "cell_type": "code",
   "execution_count": null,
   "id": "0979b92a",
   "metadata": {},
   "outputs": [],
   "source": []
  },
  {
   "cell_type": "code",
   "execution_count": null,
   "id": "80ab6427",
   "metadata": {},
   "outputs": [],
   "source": []
  },
  {
   "cell_type": "code",
   "execution_count": null,
   "id": "7bf98549",
   "metadata": {},
   "outputs": [],
   "source": []
  },
  {
   "cell_type": "code",
   "execution_count": null,
   "id": "beb22293",
   "metadata": {},
   "outputs": [],
   "source": []
  },
  {
   "cell_type": "code",
   "execution_count": null,
   "id": "1ac37b0e",
   "metadata": {},
   "outputs": [],
   "source": []
  }
 ],
 "metadata": {
  "kernelspec": {
   "display_name": "Python 3 (ipykernel)",
   "language": "python",
   "name": "python3"
  },
  "language_info": {
   "codemirror_mode": {
    "name": "ipython",
    "version": 3
   },
   "file_extension": ".py",
   "mimetype": "text/x-python",
   "name": "python",
   "nbconvert_exporter": "python",
   "pygments_lexer": "ipython3",
   "version": "3.9.13"
  }
 },
 "nbformat": 4,
 "nbformat_minor": 5
}
